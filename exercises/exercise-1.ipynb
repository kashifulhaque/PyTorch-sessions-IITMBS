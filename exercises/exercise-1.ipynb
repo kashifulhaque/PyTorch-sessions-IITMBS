{
 "cells": [
  {
   "cell_type": "markdown",
   "metadata": {},
   "source": [
    "# Question 1\n",
    "\n",
    "- Define two tensors of same shape (you can use any shape) in both CPU and GPU\n",
    "- Implement the tensor operations that are listed below:\n",
    "  - Row wise and column wise concatenation.\n",
    "  - Element wise multiplication\n",
    "  - Matrix multiplication (if the tensors are not rank two then define them again with 2d shape)."
   ]
  },
  {
   "cell_type": "code",
   "execution_count": 2,
   "metadata": {},
   "outputs": [],
   "source": [
    "# Question 1 code here"
   ]
  },
  {
   "cell_type": "markdown",
   "metadata": {},
   "source": [
    "# Question 2\n",
    "\n",
    "1. Import Pytorch libaray and create a Rank 2 tensor with 10 rows and 2 columns (basically of size 10 x 2) and name it $X$.\n",
    "2. Create a Rank 1 tensor with size 10 and name it $y$."
   ]
  },
  {
   "cell_type": "code",
   "execution_count": 1,
   "metadata": {},
   "outputs": [],
   "source": [
    "# Question 2 code here"
   ]
  },
  {
   "cell_type": "markdown",
   "metadata": {},
   "source": [
    "# Question 3\n",
    "\n",
    "Refer to the code in the Logistic Regression notebook\n",
    "\n",
    "1. Implement a linear model using Pytorch\n",
    "2. Use MSE loss for the model (Hint: Find MSE loss function from the Pytorch documentation and implement the same)\n",
    "3. Use SGD optimizer from the model\n",
    "4. Train the model for 20 epochs and print the model loss for each epoch"
   ]
  },
  {
   "cell_type": "code",
   "execution_count": null,
   "metadata": {},
   "outputs": [],
   "source": [
    "# Question 3 code here"
   ]
  }
 ],
 "metadata": {
  "kernelspec": {
   "display_name": "Python 3",
   "language": "python",
   "name": "python3"
  },
  "language_info": {
   "codemirror_mode": {
    "name": "ipython",
    "version": 3
   },
   "file_extension": ".py",
   "mimetype": "text/x-python",
   "name": "python",
   "nbconvert_exporter": "python",
   "pygments_lexer": "ipython3",
   "version": "3.11.3"
  },
  "orig_nbformat": 4
 },
 "nbformat": 4,
 "nbformat_minor": 2
}
