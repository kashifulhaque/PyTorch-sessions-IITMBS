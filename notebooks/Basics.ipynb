{
 "cells": [
  {
   "cell_type": "markdown",
   "metadata": {},
   "source": [
    "# Pytorch\n",
    "\n",
    "Pytorch is a machine learning libary that was developed using torch (Torch is scientific computing libary developed using Lua by Meta). To get started install pytorch library using command that was generated in this link.\n",
    "\n",
    "**https://pytorch.org/get-started/locally/**\n",
    "\n",
    "## Installation\n",
    "\n",
    "### CUDA Supported Nvidia GPUs\n",
    "\n",
    "If you want to train your models locally on pytorch using GPU then your GPU should support CUDA (For). To check if your GPU is supports CUDA or not, you can check if your GPU is listed in RTX/Geforce section here: **https://developer.nvidia.com/cuda-gpus**. The compute capability is not the cuda version so you can ignore it.\n",
    "\n",
    "If you have an Nvidia GPU that has CUDA cores then select the options below and copy the command and run in your pc to install the pytorch library\n",
    "\n",
    "\n",
    "![torch_image](./images/Nvidia_GPU.png)\n",
    "\n",
    "### AMD GPUs\n",
    "\n",
    "If your PC has AMD GPU and you want to train your models on GPU then you need to install ROCm supported Pytorch package. But first check if your GPU supports latest version of ROCm here **https://rocm.docs.amd.com/en/latest/** under windows/linux overview section.\n",
    "\n",
    "![AMD](./images/AMD_GPU.png)\n",
    "\n",
    "### Intel/Unsupported GPUs/CPU Installation\n",
    "\n",
    "If your GPU isn't supported then you will have to go with CPU installation. So you would need to select CPU and run the command\n",
    "\n",
    "![Unsupported](./images/torch_CPU.png)"
   ]
  },
  {
   "cell_type": "markdown",
   "metadata": {},
   "source": [
    "To check your installation import the library using the command"
   ]
  },
  {
   "cell_type": "code",
   "execution_count": 1,
   "metadata": {},
   "outputs": [],
   "source": [
    "import torch"
   ]
  },
  {
   "cell_type": "markdown",
   "metadata": {},
   "source": [
    "# Detecing your GPU\n",
    "\n",
    "If your GPU is supported and you want to check if your Pytorch installation detects GPU or not, you can run this command"
   ]
  },
  {
   "cell_type": "code",
   "execution_count": 2,
   "metadata": {},
   "outputs": [
    {
     "data": {
      "text/plain": [
       "True"
      ]
     },
     "execution_count": 2,
     "metadata": {},
     "output_type": "execute_result"
    }
   ],
   "source": [
    "torch.cuda.is_available()"
   ]
  },
  {
   "cell_type": "markdown",
   "metadata": {},
   "source": [
    "It would give `True` otherwise it would be `False`"
   ]
  },
  {
   "cell_type": "markdown",
   "metadata": {},
   "source": [
    "# Rank 0 Tensor (Scalar)\n",
    "\n",
    "To initialize a scaler using torch\n"
   ]
  },
  {
   "cell_type": "code",
   "execution_count": 3,
   "metadata": {},
   "outputs": [
    {
     "data": {
      "text/plain": [
       "tensor(2)"
      ]
     },
     "metadata": {},
     "output_type": "display_data"
    },
    {
     "data": {
      "text/plain": [
       "torch.Size([])"
      ]
     },
     "metadata": {},
     "output_type": "display_data"
    },
    {
     "data": {
      "text/plain": [
       "torch.Tensor"
      ]
     },
     "execution_count": 3,
     "metadata": {},
     "output_type": "execute_result"
    }
   ],
   "source": [
    "scalar_value = torch.tensor(2)\n",
    "display(scalar_value) # Displays the output (similar to print) in the notebook\n",
    "\n",
    "# Dimension of scalar_value\n",
    "\n",
    "display(scalar_value.shape)\n",
    "\n",
    "# Data type of the scalar_value\n",
    "type(scalar_value)"
   ]
  },
  {
   "cell_type": "markdown",
   "metadata": {},
   "source": [
    "In the above cell we can see that the tensor itself is a scalar value because it returns an empty array when we ask for shape of the tensor. And if we check the datatype of the scalar value we can see that it is a torch tensor object. We can also change the datatype of scaler value by passing the torch datatype in the `dtype` argument\n",
    "\n",
    "You can check more datatypes here: https://pytorch.org/docs/stable/tensor_attributes.html#torch.dtype"
   ]
  },
  {
   "cell_type": "code",
   "execution_count": 4,
   "metadata": {},
   "outputs": [
    {
     "data": {
      "text/plain": [
       "tensor(2., dtype=torch.float64)"
      ]
     },
     "metadata": {},
     "output_type": "display_data"
    },
    {
     "data": {
      "text/plain": [
       "tensor(2.)"
      ]
     },
     "metadata": {},
     "output_type": "display_data"
    },
    {
     "data": {
      "text/plain": [
       "tensor(2)"
      ]
     },
     "metadata": {},
     "output_type": "display_data"
    }
   ],
   "source": [
    "scalar_value = torch.tensor(2, dtype=torch.float64) # 64 bit float datatype\n",
    "display(scalar_value) # Displays the output (similar to print) in the notebook\n",
    "\n",
    "scalar_value = torch.tensor(2, dtype=torch.float32) # 32 bit float datatype\n",
    "display(scalar_value)\n",
    "\n",
    "scalar_value = torch.tensor(2, dtype=torch.int64) # 64 bit Integer datatype\n",
    "display(scalar_value)\n"
   ]
  },
  {
   "cell_type": "markdown",
   "metadata": {},
   "source": [
    "# Rank 1 Tensor (Vector)\n",
    "\n",
    "To initialize a vector/ rank-1 tensor using torch"
   ]
  },
  {
   "cell_type": "code",
   "execution_count": 5,
   "metadata": {},
   "outputs": [
    {
     "data": {
      "text/plain": [
       "tensor([1, 2, 3, 4, 5])"
      ]
     },
     "metadata": {},
     "output_type": "display_data"
    },
    {
     "data": {
      "text/plain": [
       "torch.Size([5])"
      ]
     },
     "metadata": {},
     "output_type": "display_data"
    },
    {
     "data": {
      "text/plain": [
       "tensor([1., 2., 3., 4., 5.], dtype=torch.float64)"
      ]
     },
     "metadata": {},
     "output_type": "display_data"
    },
    {
     "data": {
      "text/plain": [
       "tensor([0., 0., 0., 0., 0.])"
      ]
     },
     "metadata": {},
     "output_type": "display_data"
    },
    {
     "data": {
      "text/plain": [
       "tensor([1., 1., 1., 1., 1.])"
      ]
     },
     "metadata": {},
     "output_type": "display_data"
    },
    {
     "data": {
      "text/plain": [
       "tensor([-1.2715,  1.7954,  1.3911, -0.2118,  1.1912])"
      ]
     },
     "metadata": {},
     "output_type": "display_data"
    }
   ],
   "source": [
    "vector = torch.tensor([1, 2, 3, 4, 5])\n",
    "display(vector)\n",
    "display(vector.shape)\n",
    "\n",
    "# Mentioning the datatype when initializing the tensor\n",
    "vector = torch.tensor([1, 2, 3, 4, 5], dtype=torch.float64)\n",
    "display(vector)\n",
    "\n",
    "# Initializing zeros vector\n",
    "zeros_vector = torch.zeros(5)\n",
    "display(zeros_vector)\n",
    "\n",
    "# Initialzing ones vector\n",
    "ones_vector = torch.ones(5)\n",
    "display(ones_vector)\n",
    "\n",
    "# Initializing vector with random values\n",
    "rand_vector = torch.randn(5)\n",
    "display(rand_vector)"
   ]
  },
  {
   "cell_type": "markdown",
   "metadata": {},
   "source": [
    "# Rank 2 Tensor (Matrix)"
   ]
  },
  {
   "cell_type": "code",
   "execution_count": 6,
   "metadata": {},
   "outputs": [
    {
     "data": {
      "text/plain": [
       "tensor([[1, 2],\n",
       "        [3, 4]])"
      ]
     },
     "metadata": {},
     "output_type": "display_data"
    },
    {
     "data": {
      "text/plain": [
       "torch.Size([2, 2])"
      ]
     },
     "metadata": {},
     "output_type": "display_data"
    },
    {
     "data": {
      "text/plain": [
       "tensor([[1., 2.],\n",
       "        [3., 4.]], dtype=torch.float64)"
      ]
     },
     "metadata": {},
     "output_type": "display_data"
    },
    {
     "data": {
      "text/plain": [
       "tensor([[0., 0., 0.],\n",
       "        [0., 0., 0.]])"
      ]
     },
     "metadata": {},
     "output_type": "display_data"
    },
    {
     "data": {
      "text/plain": [
       "tensor([[1., 1., 1.],\n",
       "        [1., 1., 1.]])"
      ]
     },
     "metadata": {},
     "output_type": "display_data"
    },
    {
     "data": {
      "text/plain": [
       "tensor([[-0.2052, -0.3188,  0.1485],\n",
       "        [ 0.4797,  0.3248, -1.0792]])"
      ]
     },
     "metadata": {},
     "output_type": "display_data"
    }
   ],
   "source": [
    "rank_2_tensor = torch.tensor([[1, 2,],[3, 4]])\n",
    "display(rank_2_tensor)\n",
    "display(rank_2_tensor.shape)\n",
    "\n",
    "# Mentioning the datatype when initializing the tensor\n",
    "rank_2_tensor = torch.tensor([[1, 2],[3, 4]], dtype=torch.float64)\n",
    "display(rank_2_tensor)\n",
    "\n",
    "# Initializing zeros matrix\n",
    "zeros_matrix = torch.zeros((2, 3))\n",
    "display(zeros_matrix)\n",
    "\n",
    "# Initialzing ones matrix\n",
    "ones_matrix = torch.ones((2, 3))\n",
    "display(ones_matrix)\n",
    "\n",
    "# Initializing tensor with random values\n",
    "rand_matrix = torch.randn((2, 3))\n",
    "display(rand_matrix)"
   ]
  },
  {
   "cell_type": "markdown",
   "metadata": {},
   "source": [
    "# Simple Tensor Operations"
   ]
  },
  {
   "cell_type": "code",
   "execution_count": 7,
   "metadata": {},
   "outputs": [
    {
     "data": {
      "text/plain": [
       "tensor([[1., 1., 1.],\n",
       "        [1., 1., 1.]])"
      ]
     },
     "metadata": {},
     "output_type": "display_data"
    },
    {
     "data": {
      "text/plain": [
       "tensor([[0., 0., 0.],\n",
       "        [0., 0., 0.]])"
      ]
     },
     "metadata": {},
     "output_type": "display_data"
    }
   ],
   "source": [
    "A = torch.ones((2, 3))\n",
    "B = torch.zeros((2, 3))\n",
    "\n",
    "display(A)\n",
    "display(B)"
   ]
  },
  {
   "cell_type": "markdown",
   "metadata": {},
   "source": [
    "## Concatenation of two Tensors"
   ]
  },
  {
   "cell_type": "code",
   "execution_count": 8,
   "metadata": {},
   "outputs": [
    {
     "data": {
      "text/plain": [
       "tensor([[1., 1., 1.],\n",
       "        [1., 1., 1.],\n",
       "        [0., 0., 0.],\n",
       "        [0., 0., 0.]])"
      ]
     },
     "metadata": {},
     "output_type": "display_data"
    },
    {
     "data": {
      "text/plain": [
       "torch.Size([4, 3])"
      ]
     },
     "metadata": {},
     "output_type": "display_data"
    },
    {
     "data": {
      "text/plain": [
       "tensor([[1., 1., 1., 0., 0., 0.],\n",
       "        [1., 1., 1., 0., 0., 0.]])"
      ]
     },
     "metadata": {},
     "output_type": "display_data"
    },
    {
     "data": {
      "text/plain": [
       "torch.Size([2, 6])"
      ]
     },
     "metadata": {},
     "output_type": "display_data"
    }
   ],
   "source": [
    "row_wise_concat = torch.cat([A, B], dim=0) # Row-wise concatenation\n",
    "display(row_wise_concat)\n",
    "display(row_wise_concat.shape)\n",
    "\n",
    "column_wise_concat = torch.cat([A, B], dim=1) # Column-wise concatenation\n",
    "display(column_wise_concat)\n",
    "display(column_wise_concat.shape)"
   ]
  },
  {
   "cell_type": "markdown",
   "metadata": {},
   "source": [
    "# Stacking tensors"
   ]
  },
  {
   "cell_type": "code",
   "execution_count": 9,
   "metadata": {},
   "outputs": [
    {
     "data": {
      "text/plain": [
       "tensor([[[1., 1., 1.],\n",
       "         [1., 1., 1.]],\n",
       "\n",
       "        [[0., 0., 0.],\n",
       "         [0., 0., 0.]]])"
      ]
     },
     "metadata": {},
     "output_type": "display_data"
    },
    {
     "data": {
      "text/plain": [
       "torch.Size([2, 2, 3])"
      ]
     },
     "execution_count": 9,
     "metadata": {},
     "output_type": "execute_result"
    }
   ],
   "source": [
    "display(torch.stack([A, B], dim=0))\n",
    "torch.stack([A, B], dim=0).shape"
   ]
  },
  {
   "cell_type": "code",
   "execution_count": 10,
   "metadata": {},
   "outputs": [
    {
     "data": {
      "text/plain": [
       "tensor([[[1., 1., 1.],\n",
       "         [0., 0., 0.]],\n",
       "\n",
       "        [[1., 1., 1.],\n",
       "         [0., 0., 0.]]])"
      ]
     },
     "metadata": {},
     "output_type": "display_data"
    },
    {
     "data": {
      "text/plain": [
       "torch.Size([2, 2, 3])"
      ]
     },
     "execution_count": 10,
     "metadata": {},
     "output_type": "execute_result"
    }
   ],
   "source": [
    "display(torch.stack([A, B], dim=1))\n",
    "torch.stack([A, B], dim=1).shape"
   ]
  },
  {
   "cell_type": "code",
   "execution_count": 11,
   "metadata": {},
   "outputs": [
    {
     "data": {
      "text/plain": [
       "tensor([[[1., 0.],\n",
       "         [1., 0.],\n",
       "         [1., 0.]],\n",
       "\n",
       "        [[1., 0.],\n",
       "         [1., 0.],\n",
       "         [1., 0.]]])"
      ]
     },
     "metadata": {},
     "output_type": "display_data"
    },
    {
     "data": {
      "text/plain": [
       "torch.Size([2, 2, 3])"
      ]
     },
     "execution_count": 11,
     "metadata": {},
     "output_type": "execute_result"
    }
   ],
   "source": [
    "display(torch.stack([A, B], dim=2))\n",
    "torch.stack([A, B], dim=1).shape"
   ]
  },
  {
   "cell_type": "markdown",
   "metadata": {},
   "source": [
    "# Mathematical Operations"
   ]
  },
  {
   "cell_type": "code",
   "execution_count": 12,
   "metadata": {},
   "outputs": [
    {
     "data": {
      "text/plain": [
       "tensor([[ 0.2060, -1.6944, -2.1107],\n",
       "        [-0.8241,  0.5678,  0.1780]])"
      ]
     },
     "metadata": {},
     "output_type": "display_data"
    },
    {
     "data": {
      "text/plain": [
       "tensor([[-2.3461, -0.8867, -0.6894],\n",
       "        [ 0.2026, -1.1793,  0.3061]])"
      ]
     },
     "metadata": {},
     "output_type": "display_data"
    },
    {
     "data": {
      "text/plain": [
       "tensor([[-1.3655,  0.5212,  0.9949],\n",
       "        [ 0.1595, -0.2671, -0.0155]])"
      ]
     },
     "metadata": {},
     "output_type": "display_data"
    },
    {
     "data": {
      "text/plain": [
       "tensor([[-0.8386,  3.1958,  1.9700],\n",
       "        [ 0.6053, -0.3500, -3.7794]])"
      ]
     },
     "metadata": {},
     "output_type": "display_data"
    }
   ],
   "source": [
    "X = torch.randn((2, 3))\n",
    "Y = torch.randn((2, 3))\n",
    "\n",
    "display(X + Y, X - Y, X * Y, X / Y)"
   ]
  },
  {
   "cell_type": "markdown",
   "metadata": {},
   "source": [
    "# Element wise multiplication"
   ]
  },
  {
   "cell_type": "code",
   "execution_count": 13,
   "metadata": {},
   "outputs": [
    {
     "data": {
      "text/plain": [
       "tensor([[-0.0736, -1.4861],\n",
       "        [ 0.2065,  0.1480]])"
      ]
     },
     "metadata": {},
     "output_type": "display_data"
    },
    {
     "data": {
      "text/plain": [
       "tensor([[ 1.7124,  1.1003],\n",
       "        [-0.2198,  0.5201]])"
      ]
     },
     "metadata": {},
     "output_type": "display_data"
    },
    {
     "data": {
      "text/plain": [
       "tensor([[-0.1260, -1.6352],\n",
       "        [-0.0454,  0.0769]])"
      ]
     },
     "metadata": {},
     "output_type": "display_data"
    }
   ],
   "source": [
    "A = torch.randn([2, 2])\n",
    "B = torch.randn([2, 2])\n",
    "\n",
    "display(A, B, A*B)"
   ]
  },
  {
   "cell_type": "code",
   "execution_count": 14,
   "metadata": {},
   "outputs": [
    {
     "data": {
      "text/plain": [
       "tensor([[-0.1260, -1.6352],\n",
       "        [-0.0454,  0.0769]])"
      ]
     },
     "metadata": {},
     "output_type": "display_data"
    },
    {
     "data": {
      "text/plain": [
       "tensor([[-0.1260, -1.6352],\n",
       "        [-0.0454,  0.0769]])"
      ]
     },
     "metadata": {},
     "output_type": "display_data"
    },
    {
     "data": {
      "text/plain": [
       "tensor([[-0.1260, -1.6352],\n",
       "        [-0.0454,  0.0769]])"
      ]
     },
     "metadata": {},
     "output_type": "display_data"
    }
   ],
   "source": [
    "display(A * B, torch.mul(A, B), A.mul(B))"
   ]
  },
  {
   "cell_type": "markdown",
   "metadata": {},
   "source": [
    "# Matrix multiplication"
   ]
  },
  {
   "cell_type": "code",
   "execution_count": 15,
   "metadata": {},
   "outputs": [
    {
     "data": {
      "text/plain": [
       "tensor([[ 0.2006, -0.8538],\n",
       "        [ 0.3211,  0.3042]])"
      ]
     },
     "metadata": {},
     "output_type": "display_data"
    },
    {
     "data": {
      "text/plain": [
       "tensor([[ 0.2006, -0.8538],\n",
       "        [ 0.3211,  0.3042]])"
      ]
     },
     "metadata": {},
     "output_type": "display_data"
    },
    {
     "data": {
      "text/plain": [
       "tensor([[ 0.2006, -0.8538],\n",
       "        [ 0.3211,  0.3042]])"
      ]
     },
     "metadata": {},
     "output_type": "display_data"
    }
   ],
   "source": [
    "display(A @ B, torch.matmul(A, B), A.matmul(B))"
   ]
  },
  {
   "cell_type": "markdown",
   "metadata": {},
   "source": [
    "# Dot Product"
   ]
  },
  {
   "cell_type": "code",
   "execution_count": 16,
   "metadata": {},
   "outputs": [
    {
     "data": {
      "text/plain": [
       "tensor(3.0826)"
      ]
     },
     "metadata": {},
     "output_type": "display_data"
    }
   ],
   "source": [
    "A = torch.randn(5)\n",
    "B = torch.randn(5)\n",
    "\n",
    "display(torch.dot(A, B)) # Dot product"
   ]
  },
  {
   "cell_type": "code",
   "execution_count": null,
   "metadata": {},
   "outputs": [],
   "source": []
  }
 ],
 "metadata": {
  "kernelspec": {
   "display_name": "Python 3",
   "language": "python",
   "name": "python3"
  },
  "language_info": {
   "codemirror_mode": {
    "name": "ipython",
    "version": 3
   },
   "file_extension": ".py",
   "mimetype": "text/x-python",
   "name": "python",
   "nbconvert_exporter": "python",
   "pygments_lexer": "ipython3",
   "version": "3.11.3"
  },
  "orig_nbformat": 4
 },
 "nbformat": 4,
 "nbformat_minor": 2
}
